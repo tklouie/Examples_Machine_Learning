{
 "metadata": {
  "name": "example_linear_regression.ipynb",
  "signature": "sha256:233a8737df86ea892ef6a693c4f683e696db8ddfd891ca134910f31887de3dce"
 },
 "nbformat": 3,
 "nbformat_minor": 0,
 "worksheets": [
  {
   "cells": [
    {
     "cell_type": "code",
     "collapsed": false,
     "input": [
      "# Import relevant libraries\n",
      "\n",
      "import csv\n",
      "import gzip\n",
      "import numpy as np\n",
      "\n",
      "import pylab as pl\n",
      "#import sklearn\n",
      "from sklearn import linear_model, cross_validation, svm, datasets\n",
      "\n",
      "from sklearn.metrics import mean_squared_error\n",
      "\n",
      "## from rdkit import chem\n",
      "## http://www.rdkit.org/docs/GettingStartedInPython.html"
     ],
     "language": "python",
     "metadata": {},
     "outputs": [],
     "prompt_number": 15
    },
    {
     "cell_type": "code",
     "collapsed": false,
     "input": [
      "# Name relevan filenames\n",
      "\n",
      "train_filename = 'train.csv.gz'\n",
      "test_filename  = 'test.csv.gz'\n",
      "pred_filename  = 'prediction.csv'"
     ],
     "language": "python",
     "metadata": {},
     "outputs": [],
     "prompt_number": 2
    },
    {
     "cell_type": "code",
     "collapsed": false,
     "input": [
      "# Load the training file.\n",
      "train_data = []\n",
      "with gzip.open(train_filename, 'r') as train_fh:\n",
      "\n",
      "    # Parse it as a CSV file.\n",
      "    train_csv = csv.reader(train_fh, delimiter=',', quotechar='\"')\n",
      "    \n",
      "    # Skip the header row.\n",
      "    next(train_csv, None)\n",
      "\n",
      "    # Load the data.\n",
      "    for row in train_csv:\n",
      "        smiles   = row[0]\n",
      "        features = np.array([float(x) for x in row[1:257]])\n",
      "        gap      = float(row[257])\n",
      "        \n",
      "        train_data.append({ 'smiles':   smiles,\n",
      "                            'features': features,\n",
      "                            'gap':      gap })"
     ],
     "language": "python",
     "metadata": {},
     "outputs": [],
     "prompt_number": 3
    },
    {
     "cell_type": "code",
     "collapsed": false,
     "input": [
      "# Load the test file.\n",
      "test_data = []\n",
      "with gzip.open(test_filename, 'r') as test_fh:\n",
      "\n",
      "    # Parse it as a CSV file.\n",
      "    test_csv = csv.reader(test_fh, delimiter=',', quotechar='\"')\n",
      "    \n",
      "    # Skip the header row.\n",
      "    next(test_csv, None)\n",
      "\n",
      "    # Load the data.\n",
      "    for row in test_csv:\n",
      "        id       = row[0]\n",
      "        smiles   = row[1]\n",
      "        features = np.array([float(x) for x in row[2:258]])\n",
      "        \n",
      "        test_data.append({ 'id':       id,\n",
      "                           'smiles':   smiles,\n",
      "                           'features': features })"
     ],
     "language": "python",
     "metadata": {},
     "outputs": [],
     "prompt_number": 4
    },
    {
     "cell_type": "code",
     "collapsed": false,
     "input": [
      "# Select subset of test and train data to work with\n",
      "test_data_100000 = test_data[0:100000]\n",
      "train_data_100000 = train_data[0:100000]"
     ],
     "language": "python",
     "metadata": {},
     "outputs": [],
     "prompt_number": 5
    },
    {
     "cell_type": "code",
     "collapsed": false,
     "input": [
      "# Function to select column of target\n",
      "def target_select(data,key):\n",
      "    feat=[]\n",
      "    for i in range(0,len(data)):\n",
      "        feat.append(data[i:i+1][0][key])\n",
      "    return feat"
     ],
     "language": "python",
     "metadata": {},
     "outputs": [],
     "prompt_number": 6
    },
    {
     "cell_type": "code",
     "collapsed": false,
     "input": [
      "# From training data, create feature array\n",
      "feat_train=[]\n",
      "for i in range(0,len(train_data_100000)):\n",
      "    feat_train.append(train_data_100000[i]['features'])"
     ],
     "language": "python",
     "metadata": {},
     "outputs": [],
     "prompt_number": 7
    },
    {
     "cell_type": "code",
     "collapsed": false,
     "input": [
      "# From training data, create target array\n",
      "\n",
      "target = np.array(target_select(train_data_100000,'gap'))"
     ],
     "language": "python",
     "metadata": {},
     "outputs": [],
     "prompt_number": 8
    },
    {
     "cell_type": "code",
     "collapsed": false,
     "input": [
      "# Create relevant prediction model\n",
      "# Note, looked at differences between models from http://scikit-learn.org/stable/modules/linear_model.html\n",
      "\n",
      "# Linear Regression\n",
      "model_linear = linear_model.LinearRegression()\n",
      "\n",
      "# Ridge Regression\n",
      "model_ridge = linear_model.RidgeCV(alphas=[0.1, 1.0, 10.0])\n",
      "\n",
      "# Lasso Regression\n",
      "model_lasso = linear_model.LassoCV()\n",
      "\n",
      "# Elastic Net\n",
      "model_elastic = linear_model.ElasticNetCV()\n",
      "\n",
      "# Bayesian Ridge Regression\n",
      "model_bayesRidge = sklearn.linear_model.BayesianRidge()\n",
      "\n",
      "# Support Vector Machines\n",
      "model_svm = sklearn.svm.SVC()"
     ],
     "language": "python",
     "metadata": {},
     "outputs": [],
     "prompt_number": 12
    },
    {
     "cell_type": "code",
     "collapsed": false,
     "input": [
      "# Cross-validation\n",
      "\n",
      "cross_validation.cross_val_score(model_linear,feat_train,target,cv=10,scoring='mean_squared_error')\n",
      "#cross_validation.cross_val_score(model_ridge,feat_train,target,cv=10,scoring='mean_squared_error')\n",
      "#cross_validation.cross_val_score(model_lasso,feat_train,target,cv=10,scoring='mean_squared_error')\n",
      "#cross_validation.cross_val_score(model_elastic,feat_train,target,cv=10,scoring='mean_squared_error')\n",
      "#scross_validation.cross_val_score(model_bayesRidge,feat_train,target,cv=10,scoring='mean_squared_error')\n",
      "#scross_validation.cross_val_score(model_svm,feat_train,target,cv=10,scoring='mean_squared_error')"
     ],
     "language": "python",
     "metadata": {},
     "outputs": [
      {
       "metadata": {},
       "output_type": "pyout",
       "prompt_number": 16,
       "text": [
        "array([-0.08936241, -0.08863631, -0.0920006 , -0.08648731, -0.08857925,\n",
        "       -0.08697318, -0.09009329, -0.0877746 , -0.08967963, -0.08986153])"
       ]
      }
     ],
     "prompt_number": 16
    },
    {
     "cell_type": "code",
     "collapsed": false,
     "input": [
      "# Create relevant prediction model- for now, just linear\n",
      "\n",
      "# Linear Regression\n",
      "model_linear.fit(feat_train,target)\n",
      "\n",
      "# Lasso Regression\n",
      "#model_lasso.fit(feat_train,target)\n"
     ],
     "language": "python",
     "metadata": {},
     "outputs": [
      {
       "metadata": {},
       "output_type": "pyout",
       "prompt_number": 17,
       "text": [
        "LinearRegression(copy_X=True, fit_intercept=True, normalize=False)"
       ]
      }
     ],
     "prompt_number": 17
    },
    {
     "cell_type": "code",
     "collapsed": false,
     "input": [
      "# From testing data, create feature array\n",
      "feat_test=[]\n",
      "for i in range(0,len(test_data_100000)):\n",
      "    feat_test.append(test_data_100000[i]['features'])"
     ],
     "language": "python",
     "metadata": {},
     "outputs": [],
     "prompt_number": 18
    },
    {
     "cell_type": "code",
     "collapsed": false,
     "input": [
      "# From testing data, add 'prediction' to the dictionary\n",
      "for j in range(0,len(test_data_100000)):\n",
      "               test_data_100000[j:j+1][0]['prediction'] = model_linear.predict(test_data_100000[j]['features'])"
     ],
     "language": "python",
     "metadata": {},
     "outputs": [],
     "prompt_number": 19
    },
    {
     "cell_type": "code",
     "collapsed": false,
     "input": [
      "# Write a prediction file.\n",
      "with open(pred_filename, 'w') as pred_fh:\n",
      "\n",
      "    # Produce a CSV file.\n",
      "    pred_csv = csv.writer(pred_fh, delimiter=',', quotechar='\"')\n",
      "\n",
      "    # Write the header row.\n",
      "    pred_csv.writerow(['Id', 'Prediction'])\n",
      "\n",
      "    #for datum in test_data:\n",
      "    #    pred_csv.writerow([datum['id'], mean_gap])\n",
      "    \n",
      "    for datum in test_data_100000:\n",
      "        pred_csv.writerow([datum['id'], datum['prediction']])"
     ],
     "language": "python",
     "metadata": {},
     "outputs": [],
     "prompt_number": 20
    },
    {
     "cell_type": "heading",
     "level": 1,
     "metadata": {},
     "source": [
      "Extra"
     ]
    },
    {
     "cell_type": "code",
     "collapsed": false,
     "input": [
      "## smiles is a 1 million by 1 vector of the molecule strings (X)\n",
      "## features is a 1 million by 256 matrix of the possible features (some form of basis function)\n",
      "## gap is a 1 million by 1 vector that we are trying to predict (Y)\n",
      "## train_data is a dictionary with smiles, features, and gaps\n",
      "## test_data is a dictionary with id, smiles, and features\n",
      "## pred_csv writes the predictions from the test data"
     ],
     "language": "python",
     "metadata": {},
     "outputs": [],
     "prompt_number": 21
    }
   ],
   "metadata": {}
  }
 ]
}